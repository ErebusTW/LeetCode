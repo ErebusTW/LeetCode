{
 "cells": [
  {
   "cell_type": "markdown",
   "metadata": {},
   "source": [
    "**<font  size=6>1. Two Sum</font>**"
   ]
  },
  {
   "cell_type": "markdown",
   "metadata": {},
   "source": [
    "Given an array of integers nums and an integer target, return indices of the two numbers such that they add up to target.\n",
    "\n",
    "You may assume that each input would have **exactly one solution**, and you may not use the same element twice.\n",
    "\n",
    "You can return the answer in any order."
   ]
  },
  {
   "cell_type": "markdown",
   "metadata": {},
   "source": [
    "**Example 1:**\n",
    "\n",
    "**Input:** nums = [2,7,11,15], target = 9  \n",
    "**Output:** [0,1]  \n",
    "**Explanation:** Because nums[0] + nums[1] == 9, we return [0, 1]."
   ]
  },
  {
   "cell_type": "markdown",
   "metadata": {},
   "source": [
    "**Example 2:**\n",
    "\n",
    "**Input:** nums = [3,2,4], target = 6  \n",
    "**Output:** [1,2]\n"
   ]
  },
  {
   "cell_type": "markdown",
   "metadata": {},
   "source": [
    "**Example 3:**\n",
    "\n",
    "**Input:** nums = [3,3], target = 6  \n",
    "**Output:** [0,1]"
   ]
  },
  {
   "cell_type": "markdown",
   "metadata": {},
   "source": [
    "**Constraints:**\n",
    "\n",
    "- $2 <= nums.length <= 10^{4}$\n",
    "- $-10^{9} <= nums[i] <= 10^{9}$\n",
    "- $-10^{9} <= target <= 10^{9}$\n",
    "- **Only one valid answer exists.**"
   ]
  },
  {
   "cell_type": "markdown",
   "metadata": {},
   "source": [
    "**Follow-up:** Can you come up with an algorithm that is less than $O(n^{2})$ time complexity?"
   ]
  },
  {
   "cell_type": "code",
   "execution_count": 3,
   "metadata": {},
   "outputs": [],
   "source": [
    "nums = [2,7,11,15]\n",
    "target = 9"
   ]
  },
  {
   "cell_type": "markdown",
   "metadata": {},
   "source": [
    "**暴力解**"
   ]
  },
  {
   "cell_type": "code",
   "execution_count": 2,
   "metadata": {},
   "outputs": [],
   "source": [
    "class Solution:\n",
    "    def twoSum(self, nums: list[int], target: int) -> list[int]:\n",
    "        for i in range(len(nums)):\n",
    "            for j in range(i+1,len(nums)):\n",
    "                if (nums[i] + nums[j] == target):\n",
    "                    return [i,j]"
   ]
  },
  {
   "cell_type": "code",
   "execution_count": 4,
   "metadata": {},
   "outputs": [
    {
     "data": {
      "text/plain": [
       "[0, 1]"
      ]
     },
     "execution_count": 4,
     "metadata": {},
     "output_type": "execute_result"
    }
   ],
   "source": [
    "Solution().twoSum([2,7,11,15],9)"
   ]
  },
  {
   "cell_type": "markdown",
   "metadata": {},
   "source": [
    "因為是兩層迴圈，所以時間複雜度是O(n²)。解LeetCode的一個大原則就是能盡量不要寫巢狀迴圈就不要寫，通常如果寫巢狀迴圈來解題，應該都會有更佳解。  "
   ]
  },
  {
   "cell_type": "markdown",
   "metadata": {},
   "source": [
    "**優化解**\n",
    "\n",
    "既然不寫兩層迴圈，那就再想想有什麼方法吧！一個最常用的資料結構就是hash table：透過底層hash function，利用key去直接尋找value，而不用迭代的方式去一個一個慢慢找。  \n",
    "所以現在解題的思維變成：我用一層迴圈，從第一個數字開始，去我的hash table找找看有沒有和這個數字相加起來等於target的值？如果有，就回傳這兩個值的陣列位置。  \n",
    "題目要的回傳值是陣列的index，所以設計hash table時的value應該要是陣列index，那key是什麼呢？再重新看一下範例：nums = [2,10,1, 7, 6,11] ,target = 9。key要是「和2相加等於9的數字」也就是9–2 = 7。  \n",
    "所以我的hash table應該會是key=target-nums[i]; value= i。現在程式碼變成這樣："
   ]
  },
  {
   "cell_type": "code",
   "execution_count": 48,
   "metadata": {},
   "outputs": [],
   "source": [
    "class Solution:\n",
    "    def __init__(self) -> None:\n",
    "        self.hoshTable = {}\n",
    "    def twoSum(self, nums: list[int], target: int) -> list[int]:\n",
    "        if len(nums) == 2:\n",
    "            return [0, 1]\n",
    "        #Create a hash table\n",
    "        for k in range(len(nums)):\n",
    "            self.hoshTable[nums[k]] = k\n",
    "        #Search and return the answer\n",
    "        for i in range(len(nums)):\n",
    "            remainder = target - nums[i]\n",
    "            try:\n",
    "                found = self.hoshTable[remainder]\n",
    "            except:\n",
    "                found = None\n",
    "            if (found is not None) & (found != i):\n",
    "                return [i, found]"
   ]
  },
  {
   "cell_type": "code",
   "execution_count": 49,
   "metadata": {},
   "outputs": [
    {
     "data": {
      "text/plain": [
       "[0, 1]"
      ]
     },
     "execution_count": 49,
     "metadata": {},
     "output_type": "execute_result"
    }
   ],
   "source": [
    "Solution().twoSum([2,7,11,15],9)"
   ]
  },
  {
   "cell_type": "markdown",
   "metadata": {},
   "source": [
    "**再優化**  \n",
    "先創造一個空的hash table，再來寫一個迴圈，迴圈先查找hash table ->\n",
    "\n",
    "如果沒有找到 -> 把key=target-nums[i]; value= i加到hash table中 -> 迴圈繼續(因為hash table是無序的，所以每次迴圈都能去查全部的key，不會有先後問題)\n",
    "\n",
    "如果有找到 -> 回傳答案"
   ]
  },
  {
   "cell_type": "code",
   "execution_count": 61,
   "metadata": {},
   "outputs": [],
   "source": [
    "class Solution:\n",
    "    def __init__(self) -> None:\n",
    "        self.hoshTable = {}\n",
    "    def twoSum(self, nums: list[int], target: int) -> list[int]:\n",
    "        for i in range(len(nums)):\n",
    "            remaining = target - nums[i]\n",
    "            try:\n",
    "                found = self.hoshTable[remaining]\n",
    "            except:\n",
    "                found = None\n",
    "\n",
    "            if found is not None:\n",
    "                return [i, self.hoshTable[remaining]]\n",
    "            \n",
    "            self.hoshTable[nums[i]] = i"
   ]
  },
  {
   "cell_type": "code",
   "execution_count": 62,
   "metadata": {},
   "outputs": [
    {
     "data": {
      "text/plain": [
       "[1, 0]"
      ]
     },
     "execution_count": 62,
     "metadata": {},
     "output_type": "execute_result"
    }
   ],
   "source": [
    "Solution().twoSum([2,7,11,15],9)"
   ]
  }
 ],
 "metadata": {
  "kernelspec": {
   "display_name": "Python 3.10.2 64-bit",
   "language": "python",
   "name": "python3"
  },
  "language_info": {
   "codemirror_mode": {
    "name": "ipython",
    "version": 3
   },
   "file_extension": ".py",
   "mimetype": "text/x-python",
   "name": "python",
   "nbconvert_exporter": "python",
   "pygments_lexer": "ipython3",
   "version": "3.10.2"
  },
  "orig_nbformat": 4,
  "vscode": {
   "interpreter": {
    "hash": "1b43cb0bd93d5abbadd54afed8252f711d4681fe6223ad6b67ffaee289648f85"
   }
  }
 },
 "nbformat": 4,
 "nbformat_minor": 2
}
